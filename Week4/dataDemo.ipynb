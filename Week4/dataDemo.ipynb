{
 "cells": [
  {
   "cell_type": "code",
   "execution_count": 1,
   "metadata": {},
   "outputs": [],
   "source": [
    "import pandas as pd\n",
    "import numpy as np\n",
    "import random\n",
    "import string\n",
    "import csv"
   ]
  },
  {
   "cell_type": "code",
   "execution_count": 2,
   "metadata": {},
   "outputs": [],
   "source": [
    "# Create list of random student names\n",
    "students = ['Student'+str(i) for i in range(1, 26)]\n",
    "\n",
    "# Create random attendance data (between 60-100)\n",
    "attendance = np.random.randint(60, 101, 25)\n",
    "\n",
    "# Create random grade data (scale of 1-100)\n",
    "grades = np.random.randint(1, 101, 25)\n",
    "\n",
    "# Create random flag for English as a second language (0 for no, 1 for yes)\n",
    "esl = [random.choice([0, 1]) for _ in range(25)]\n",
    "\n",
    "# Create list of random course names\n",
    "courses = ['Course'+random.choice(string.ascii_uppercase) for _ in range(25)]\n",
    "\n",
    "# Non-relevant data\n",
    "favorite_colors = [random.choice(['Red', 'Blue', 'Green', 'Yellow', 'Black']) for _ in range(25)]\n",
    "\n",
    "# Data with bad naming convention\n",
    "numbr_siblings = np.random.randint(0, 5, 25) # Number of siblings, spelled wrong\n",
    "\n",
    "# Sensitive data\n",
    "social_security_numbers = [random.randint(100000000, 999999999) for _ in range(25)] # A 9-digit SSN, for example purposes only\n",
    "\n",
    "# Column where data values are missing\n",
    "test_scores = [random.randint(50, 100) if random.random() < 0.75 else np.nan for _ in range(25)] # 25% missing data\n",
    "\n",
    "# Construct the DataFrame\n",
    "data = pd.DataFrame({\n",
    "    'Student': students,\n",
    "    'Course': courses,\n",
    "    'Attendance (%)': attendance,\n",
    "    'Grade (%)': grades,\n",
    "    'ESL Student': esl,\n",
    "    'Favorite Color': favorite_colors,  # Non-relevant data\n",
    "    'nbrSbling': numbr_siblings,  # Bad naming convention\n",
    "    'SSN': social_security_numbers,  # Sensitive data\n",
    "    'Test Score (%)': test_scores,  # Column with missing data\n",
    "})\n",
    "\n",
    "# Save the DataFrame to .csv\n",
    "data.to_csv('data.csv', index=False)"
   ]
  },
  {
   "cell_type": "markdown",
   "metadata": {},
   "source": [
    "# Data Best Pracitices"
   ]
  },
  {
   "cell_type": "code",
   "execution_count": 12,
   "metadata": {},
   "outputs": [
    {
     "name": "stdout",
     "output_type": "stream",
     "text": [
      "    Student   Course  Attendance (%)  Grade (%)  ESL Student Favorite Color  \\\n",
      "0  Student1  CourseV              99         61            1          Black   \n",
      "1  Student2  CourseT             100         68            0          Black   \n",
      "2  Student3  CourseZ              65         62            1          Green   \n",
      "3  Student4  CourseD              99         59            0            Red   \n",
      "4  Student5  CourseM              69         52            0          Green   \n",
      "\n",
      "   nbrSbling        SSN  Test Score (%)  \n",
      "0          2  814959228            51.0  \n",
      "1          2  957527528            97.0  \n",
      "2          2  140318093             NaN  \n",
      "3          1  723954703            86.0  \n",
      "4          1  434536487            81.0  \n"
     ]
    }
   ],
   "source": [
    "data = pd.read_csv('data.csv')\n",
    "print(data.head())"
   ]
  },
  {
   "cell_type": "code",
   "execution_count": 13,
   "metadata": {},
   "outputs": [
    {
     "name": "stdout",
     "output_type": "stream",
     "text": [
      "    Student   Course  Attendance (%)  Grade (%)  ESL Student Favorite Color  \\\n",
      "0  Student1  CourseV              99         61            1          Black   \n",
      "1  Student2  CourseT             100         68            0          Black   \n",
      "2  Student3  CourseZ              65         62            1          Green   \n",
      "3  Student4  CourseD              99         59            0            Red   \n",
      "4  Student5  CourseM              69         52            0          Green   \n",
      "\n",
      "   nbrSbling        SSN  Test Score (%)  ID  \n",
      "0          2  814959228            51.0   1  \n",
      "1          2  957527528            97.0   2  \n",
      "2          2  140318093             NaN   3  \n",
      "3          1  723954703            86.0   4  \n",
      "4          1  434536487            81.0   5  \n"
     ]
    }
   ],
   "source": [
    "data['ID'] = data.index + 1\n",
    "print(data.head())"
   ]
  },
  {
   "cell_type": "markdown",
   "metadata": {},
   "source": [
    "Is everything useful? Is everything necessary? Is everything correct?"
   ]
  },
  {
   "cell_type": "code",
   "execution_count": 14,
   "metadata": {},
   "outputs": [],
   "source": [
    "data = data.drop('Favorite Color', axis=1)\n"
   ]
  },
  {
   "cell_type": "markdown",
   "metadata": {},
   "source": [
    "Does everything have the right name?"
   ]
  },
  {
   "cell_type": "code",
   "execution_count": 15,
   "metadata": {},
   "outputs": [
    {
     "name": "stdout",
     "output_type": "stream",
     "text": [
      "  Student_Name Course_Name  Attendance  Grade  ESL_Student  Siblings  \\\n",
      "0     Student1     CourseV          99     61            1         2   \n",
      "1     Student2     CourseT         100     68            0         2   \n",
      "2     Student3     CourseZ          65     62            1         2   \n",
      "3     Student4     CourseD          99     59            0         1   \n",
      "4     Student5     CourseM          69     52            0         1   \n",
      "\n",
      "   Social_Security_Number  Test_Score  ID  \n",
      "0               814959228        51.0   1  \n",
      "1               957527528        97.0   2  \n",
      "2               140318093         NaN   3  \n",
      "3               723954703        86.0   4  \n",
      "4               434536487        81.0   5  \n"
     ]
    }
   ],
   "source": [
    "data = data.rename(columns={'nbrSbling': 'Siblings',\n",
    "                            'SSN': 'Social_Security_Number',\n",
    "                            'Test Score (%)': 'Test_Score',\n",
    "                            'Attendance (%)': 'Attendance',\n",
    "                            'Grade (%)': 'Grade',\n",
    "                            'ESL Student': 'ESL_Student',\n",
    "                            'Student': 'Student_Name',\n",
    "                            'Course': 'Course_Name'})\n",
    "print(data.head(5))"
   ]
  },
  {
   "cell_type": "markdown",
   "metadata": {},
   "source": [
    "Do you have sensitive data?"
   ]
  },
  {
   "cell_type": "code",
   "execution_count": 16,
   "metadata": {},
   "outputs": [
    {
     "name": "stdout",
     "output_type": "stream",
     "text": [
      "  Student_Name Course_Name  Attendance  Grade  ESL_Student  Siblings  \\\n",
      "0     Student1     CourseV          99     61            1         2   \n",
      "1     Student2     CourseT         100     68            0         2   \n",
      "2     Student3     CourseZ          65     62            1         2   \n",
      "3     Student4     CourseD          99     59            0         1   \n",
      "4     Student5     CourseM          69     52            0         1   \n",
      "\n",
      "  Social_Security_Number  Test_Score  ID  \n",
      "0            ***_**_****        51.0   1  \n",
      "1            ***_**_****        97.0   2  \n",
      "2            ***_**_****         NaN   3  \n",
      "3            ***_**_****        86.0   4  \n",
      "4            ***_**_****        81.0   5  \n"
     ]
    }
   ],
   "source": [
    "data['Social_Security_Number'] = '***_**_****'\n",
    "print(data.head(5))"
   ]
  },
  {
   "cell_type": "markdown",
   "metadata": {},
   "source": [
    "Is data Missing?"
   ]
  },
  {
   "cell_type": "code",
   "execution_count": 17,
   "metadata": {},
   "outputs": [
    {
     "name": "stdout",
     "output_type": "stream",
     "text": [
      "   Student_Name Course_Name  Attendance  Grade  ESL_Student  Siblings  \\\n",
      "0      Student1     CourseV          99     61            1         2   \n",
      "1      Student2     CourseT         100     68            0         2   \n",
      "2      Student3     CourseZ          65     62            1         2   \n",
      "3      Student4     CourseD          99     59            0         1   \n",
      "4      Student5     CourseM          69     52            0         1   \n",
      "5      Student6     CourseO          93      3            1         0   \n",
      "6      Student7     CourseM          74     77            1         0   \n",
      "7      Student8     CourseH          80     40            1         2   \n",
      "8      Student9     CourseM          86     63            0         4   \n",
      "9     Student10     CourseO          97     68            1         3   \n",
      "10    Student11     CourseW          89     18            0         1   \n",
      "11    Student12     CourseI         100     86            0         3   \n",
      "12    Student13     CourseH          70      4            1         3   \n",
      "13    Student14     CourseP          90     52            1         2   \n",
      "14    Student15     CourseV          62     96            0         4   \n",
      "\n",
      "   Social_Security_Number  Test_Score  ID  Test_Score_mean  \n",
      "0             ***_**_****        51.0   1             51.0  \n",
      "1             ***_**_****        97.0   2             97.0  \n",
      "2             ***_**_****         NaN   3             79.1  \n",
      "3             ***_**_****        86.0   4             86.0  \n",
      "4             ***_**_****        81.0   5             81.0  \n",
      "5             ***_**_****         NaN   6             79.1  \n",
      "6             ***_**_****        72.0   7             72.0  \n",
      "7             ***_**_****        76.0   8             76.0  \n",
      "8             ***_**_****        98.0   9             98.0  \n",
      "9             ***_**_****        87.0  10             87.0  \n",
      "10            ***_**_****         NaN  11             79.1  \n",
      "11            ***_**_****         NaN  12             79.1  \n",
      "12            ***_**_****        88.0  13             88.0  \n",
      "13            ***_**_****        82.0  14             82.0  \n",
      "14            ***_**_****        78.0  15             78.0  \n"
     ]
    }
   ],
   "source": [
    "mean_test_score = data['Test_Score'].mean()\n",
    "data['Test_Score_mean'] = data['Test_Score'].fillna(mean_test_score)\n",
    "print(data.head(15))"
   ]
  },
  {
   "cell_type": "code",
   "execution_count": 18,
   "metadata": {},
   "outputs": [
    {
     "name": "stdout",
     "output_type": "stream",
     "text": [
      "  Student_Name Course_Name  Attendance  Grade  ESL_Student  Siblings  \\\n",
      "0     Student1     CourseV          99     61            1         2   \n",
      "1     Student2     CourseT         100     68            0         2   \n",
      "2     Student3     CourseZ          65     62            1         2   \n",
      "3     Student4     CourseD          99     59            0         1   \n",
      "4     Student5     CourseM          69     52            0         1   \n",
      "\n",
      "  Social_Security_Number  Test_Score  ID  Test_Score_mean  \n",
      "0            ***_**_****        51.0   1             51.0  \n",
      "1            ***_**_****        97.0   2             97.0  \n",
      "2            ***_**_****         NaN   3             79.1  \n",
      "3            ***_**_****        86.0   4             86.0  \n",
      "4            ***_**_****        81.0   5             81.0  \n"
     ]
    }
   ],
   "source": [
    "data.to_csv('cleaned_data.csv', index=False)\n",
    "print(data.head())"
   ]
  }
 ],
 "metadata": {
  "kernelspec": {
   "display_name": ".venv",
   "language": "python",
   "name": "python3"
  },
  "language_info": {
   "codemirror_mode": {
    "name": "ipython",
    "version": 3
   },
   "file_extension": ".py",
   "mimetype": "text/x-python",
   "name": "python",
   "nbconvert_exporter": "python",
   "pygments_lexer": "ipython3",
   "version": "3.11.3"
  },
  "orig_nbformat": 4
 },
 "nbformat": 4,
 "nbformat_minor": 2
}

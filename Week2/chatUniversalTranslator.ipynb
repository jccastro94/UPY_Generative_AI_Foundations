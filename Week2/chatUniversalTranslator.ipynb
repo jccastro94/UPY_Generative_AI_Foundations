{
 "cells": [
  {
   "cell_type": "code",
   "execution_count": 1,
   "metadata": {},
   "outputs": [],
   "source": [
    "import openai\n",
    "import os\n",
    "\n",
    "from dotenv import load_dotenv\n",
    "\n",
    "openai.api_key  = os.getenv('OPENAI_API_KEY')"
   ]
  },
  {
   "cell_type": "code",
   "execution_count": 2,
   "metadata": {},
   "outputs": [],
   "source": [
    "def get_completion(prompt, model=\"gpt-3.5-turbo\", temperature=0): \n",
    "    messages = [{\"role\": \"user\", \"content\": prompt}]\n",
    "    response = openai.ChatCompletion.create(\n",
    "        model=model,\n",
    "        messages=messages,\n",
    "        temperature=temperature, \n",
    "    )\n",
    "    return response.choices[0].message[\"content\"]"
   ]
  },
  {
   "cell_type": "code",
   "execution_count": 3,
   "metadata": {},
   "outputs": [
    {
     "name": "stdout",
     "output_type": "stream",
     "text": [
      "Hola, ¿Puede decirme dónde está el baño, por favor?\n"
     ]
    }
   ],
   "source": [
    "prompt = f\"\"\"\n",
    "Translate the following English text to Spanish: \\ \n",
    "```Hi, Can you please tell me where the bathroom is?```\n",
    "\"\"\"\n",
    "response = get_completion(prompt)\n",
    "print(response)"
   ]
  },
  {
   "cell_type": "code",
   "execution_count": 4,
   "metadata": {},
   "outputs": [
    {
     "name": "stdout",
     "output_type": "stream",
     "text": [
      "Hello, can you tell me where the bathroom is, please?\n"
     ]
    }
   ],
   "source": [
    "prompt = f\"\"\"\n",
    "Traduce el texto siguiente al Ingles: \\ \n",
    "```Hola, ¿Puede decirme dónde está el baño, por favor?```\n",
    "\"\"\"\n",
    "response = get_completion(prompt)\n",
    "print(response)"
   ]
  },
  {
   "cell_type": "code",
   "execution_count": 9,
   "metadata": {},
   "outputs": [
    {
     "name": "stdout",
     "output_type": "stream",
     "text": [
      "Dear Parents,\n",
      "\n",
      "We regret to inform you that your child has not performed well in their recent exam and has received a score of 50%. We understand that this may be disappointing news for you and your child.\n",
      "\n",
      "We would like to assure you that we take the academic performance of our students very seriously and have already taken steps to provide additional support and resources to help your child improve their grades.\n",
      "\n",
      "We encourage you to have a conversation with your child about the importance of studying and preparing for exams. We believe that with hard work and dedication, your child can improve their academic performance and achieve their goals.\n",
      "\n",
      "Thank you for your understanding and support.\n",
      "\n",
      "Sincerely,\n",
      "\n",
      "[School Name]\n"
     ]
    }
   ],
   "source": [
    "prompt = f\"\"\"\n",
    "A student has failed their exam.\n",
    "Translate the following from my word's to a formal response to the student's parents explaining the situation.\n",
    "'Bro, you got a 50%, which clearly means you're not smart enough to be here. Next time, study harder'\n",
    "\"\"\"\n",
    "response = get_completion(prompt)\n",
    "print(response)"
   ]
  },
  {
   "cell_type": "code",
   "execution_count": 5,
   "metadata": {},
   "outputs": [
    {
     "name": "stdout",
     "output_type": "stream",
     "text": [
      "Korean: 안녕하세요, 화장실이 어디 있는지 알려주시겠어요?\n",
      "Chinese: 你好，请问洗手间在哪里？\n",
      "Japanese: こんにちは、トイレはどこですか？\n"
     ]
    }
   ],
   "source": [
    "prompt = f\"\"\"\n",
    "Translate the following English text to Korean, Chinese, and Japanese: \\ \n",
    "```Hi, Can you please tell me where the bathroom is?```\n",
    "\"\"\"\n",
    "response = get_completion(prompt)\n",
    "print(response)"
   ]
  },
  {
   "cell_type": "code",
   "execution_count": 6,
   "metadata": {},
   "outputs": [],
   "source": [
    "user_messages = [\n",
    "  \"Hola, ¿Puede decirme dónde está el baño, por favor?\", \n",
    "  \"Hello, can you tell me where the bathroom is, please?\",\n",
    "  \"안녕하세요, 화장실이 어디 있는지 알려주시겠어요?\",\n",
    "  \"你好，请问洗手间在哪里？\",\n",
    "  \"こんにちは、トイレはどこですか？\"\n",
    "] "
   ]
  },
  {
   "cell_type": "code",
   "execution_count": 7,
   "metadata": {},
   "outputs": [],
   "source": [
    "internal_messages = [\n",
    "    \"The bathroom is on the second floor, next to the elevator.\",\n",
    "    \"The lobby is in the first floor, next to the reception.\",\n",
    "    \"The classroom is on the third floor, next to the library.\",\n",
    "    \"The cafeteria is on the first floor, next to the gym.\",\n",
    "]\n",
    "\n",
    "ai_assistant_knowledge = \"\\n\".join(internal_messages)"
   ]
  },
  {
   "cell_type": "code",
   "execution_count": 8,
   "metadata": {},
   "outputs": [
    {
     "name": "stdout",
     "output_type": "stream",
     "text": [
      "Original message (Spanish.): Hola, ¿Puede decirme dónde está el baño, por favor?\n",
      "Translated message: Hello, can you tell me where the bathroom is, please?\n",
      "El baño está en el segundo piso, al lado del ascensor. \n",
      "\n",
      "Original message (English.): Hello, can you tell me where the bathroom is, please?\n",
      "Translated message: Hello, can you tell me where the bathroom is, please?\n",
      "The bathroom is on the second floor, next to the elevator. \n",
      "\n",
      "Original message (Korean.): 안녕하세요, 화장실이 어디 있는지 알려주시겠어요?\n",
      "Translated message: Hello, could you tell me where the restroom is?\n",
      "화장실은 엘리베이터 옆에 있는 두 번째 층에 있습니다. \n",
      "\n",
      "Original message (Chinese.): 你好，请问洗手间在哪里？\n",
      "Translated message: Hello, may I ask where the restroom is?\n",
      "洗手间在二楼，电梯旁边。 \n",
      "\n",
      "Original message (Japanese.): こんにちは、トイレはどこですか？\n",
      "Translated message: \"Hello, where is the restroom?\"\n",
      "トイレはエレベーターの隣、2階にあります。 \n",
      "\n"
     ]
    }
   ],
   "source": [
    "for issue in user_messages:\n",
    "    prompt = f\"Tell me in one word what language this is: ```{issue}```\"\n",
    "    lang = get_completion(prompt)\n",
    "    print(f\"Original message ({lang}): {issue}\")\n",
    "\n",
    "    prompt = f\"\"\"\n",
    "    Translate the following text to English\n",
    "     ```{issue}```\n",
    "    \"\"\"\n",
    "    response = get_completion(prompt)\n",
    "    print(f\"Translated message: {response}\")\n",
    "\n",
    "    prompt = f\"\"\"\n",
    "    Answer the following question with one of the answers provided, in {lang}.\n",
    "    Answers: ```{ai_assistant_knowledge}```\n",
    "    Question: ```{issue}```\n",
    "    \"\"\"\n",
    "    response = get_completion(prompt)\n",
    "    print(response, \"\\n\")"
   ]
  }
 ],
 "metadata": {
  "kernelspec": {
   "display_name": ".venv",
   "language": "python",
   "name": "python3"
  },
  "language_info": {
   "codemirror_mode": {
    "name": "ipython",
    "version": 3
   },
   "file_extension": ".py",
   "mimetype": "text/x-python",
   "name": "python",
   "nbconvert_exporter": "python",
   "pygments_lexer": "ipython3",
   "version": "3.11.3"
  },
  "orig_nbformat": 4
 },
 "nbformat": 4,
 "nbformat_minor": 2
}

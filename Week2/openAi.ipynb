{
 "cells": [
  {
   "cell_type": "code",
   "execution_count": 8,
   "metadata": {},
   "outputs": [],
   "source": [
    "import os\n",
    "import openai\n",
    "import tiktoken\n",
    "from dotenv import load_dotenv\n",
    "\n",
    "enc = tiktoken.get_encoding(\"cl100k_base\")\n",
    "openai.api_key  = os.environ['OPENAI_API_KEY']"
   ]
  },
  {
   "cell_type": "code",
   "execution_count": 3,
   "metadata": {},
   "outputs": [],
   "source": [
    "def get_completion(prompt, model=\"gpt-3.5-turbo\", temperature=0):\n",
    "    messages = [{\"role\": \"user\", \"content\": prompt}]\n",
    "    response = openai.ChatCompletion.create(\n",
    "        model=model,\n",
    "        messages=messages,\n",
    "        temperature=temperature,\n",
    "    )\n",
    "    return response.choices[0].message[\"content\"]"
   ]
  },
  {
   "cell_type": "code",
   "execution_count": 4,
   "metadata": {},
   "outputs": [
    {
     "name": "stdout",
     "output_type": "stream",
     "text": [
      "ppilolol\n"
     ]
    }
   ],
   "source": [
    "response = get_completion(\"Take the letters in lollipop and reverse them\")\n",
    "print(response)"
   ]
  },
  {
   "cell_type": "code",
   "execution_count": 7,
   "metadata": {},
   "outputs": [
    {
     "name": "stdout",
     "output_type": "stream",
     "text": [
      "p-o-p-i-l-l-o-l\n"
     ]
    }
   ],
   "source": [
    "response = get_completion(\"\"\"Take the letters in l-o-l-l-i-p-o-p and reverse them\"\"\")\n",
    "print(response)"
   ]
  },
  {
   "cell_type": "code",
   "execution_count": 17,
   "metadata": {},
   "outputs": [
    {
     "name": "stdout",
     "output_type": "stream",
     "text": [
      "9\n"
     ]
    }
   ],
   "source": [
    "x = enc.encode(\"Take the letters in lollipop and reverse them\")\n",
    "print(len(x))"
   ]
  },
  {
   "attachments": {},
   "cell_type": "markdown",
   "metadata": {},
   "source": [
    "# Hallucination\n",
    "Create accidental bias"
   ]
  },
  {
   "cell_type": "code",
   "execution_count": 11,
   "metadata": {},
   "outputs": [
    {
     "name": "stdout",
     "output_type": "stream",
     "text": [
      "As an AI language model, I do not have personal experiences or opinions. However, I can provide you with some information about DaCodes Mexico.\n",
      "\n",
      "DaCodes Mexico is a community of coffee-loving developers in Mexico that was founded in 2016. The community aims to bring together developers, designers, and entrepreneurs to share knowledge, collaborate on projects, and build a strong network of professionals in the tech industry.\n",
      "\n",
      "The community hosts regular meetups, workshops, and hackathons where members can learn new skills, share their experiences, and work on projects together. They also organize an annual conference called DaCodes Conference, which brings together industry experts and thought leaders to share their insights and experiences with the community.\n",
      "\n",
      "DaCodes Mexico is known for its strong focus on coffee, with many of its events taking place in coffee shops and cafes around Mexico City. The community believes that coffee is a great way to bring people together and foster collaboration and creativity.\n",
      "\n",
      "Overall, DaCodes Mexico is a vibrant and active community of developers and tech professionals who are passionate about learning, sharing, and building together.\n"
     ]
    }
   ],
   "source": [
    "prompt = f\"\"\"\n",
    "Tell me all you know about DaCodes Mexico, a community of coffee loving developers in Mexico. \n",
    "\"\"\"\n",
    "\n",
    "response = get_completion(prompt)\n",
    "print(response)\n"
   ]
  },
  {
   "cell_type": "code",
   "execution_count": 12,
   "metadata": {},
   "outputs": [],
   "source": [
    "essay = \"\"\"\n",
    "In today's world, technology plays a important role in our lives. \\\n",
    "It affects every aspect, and it is constantly evolving. As a result, \\\n",
    "jobs in the technology industry, like being a developer, are becoming more \\\n",
    "attractive and cool. \\\n",
    "\n",
    "Being a developer is a exciting job. Developers are the builders of the digital world. \\\n",
    "They write code to create software, websites, apps, and more. It is them who bring \\\n",
    "ideas to life and create tools that make our lives easier and more convenient. \\\n",
    "\n",
    "One of the cool things about working as a developer is the constant learning. \\\n",
    "Because technology is always evolving, developers must stay updated with the latest trends \\\n",
    "and learn new languages and tools. This makes their work always interesting and challenging.\\\n",
    "\n",
    "Furthermore, the work of a developer is creative. They solve complex problems and think of \\\n",
    "innovative solutions. This creativity is not only needed for coding, but also for \\\n",
    "understanding and meeting the needs of the users. \\\n",
    "\n",
    "Also, developers have flexibility. Many companies allow remote working and flexible hours. \\\n",
    "This means that a developer can work from anywhere and have a good work-life balance. \\\n",
    "\n",
    "In conclusion, being a developer is a very cool job. They get to create, innovate, \\\n",
    "solve problems, learn, and enjoy flexibility. It is a job that is challenging but \\\n",
    "also rewarding. The digital world is full of opportunities, and developers \\\n",
    "are the ones who shape it. \n",
    "\"\"\""
   ]
  },
  {
   "cell_type": "code",
   "execution_count": 18,
   "metadata": {},
   "outputs": [
    {
     "name": "stdout",
     "output_type": "stream",
     "text": [
      "278\n"
     ]
    }
   ],
   "source": [
    "x = enc.encode(essay)\n",
    "print(len(x))"
   ]
  },
  {
   "cell_type": "code",
   "execution_count": 13,
   "metadata": {},
   "outputs": [
    {
     "name": "stdout",
     "output_type": "stream",
     "text": [
      "There are no grammatical errors in the essay.\n"
     ]
    }
   ],
   "source": [
    "prompt = f\"\"\"\n",
    "Your task is to help an English teacher grade a \n",
    "essay for an English as a Second language student. \n",
    "\n",
    "Perform the following actions on the edday delimited by triple backticks: \n",
    "1. Check if the text has any grammatical errors.\n",
    "2. If there are errors, get the sentence where the errors are. \n",
    "3. Using the following categories, get the type of error: \n",
    "    - Capitalization \n",
    "    - Punctuation \n",
    "    - Spelling \n",
    "    - Word Order \n",
    "    - Verb Tense \n",
    "    - Word Choice \n",
    "    - Sentence Structure \n",
    "    - Sentence Fragment \n",
    "    - Run-on Sentence \n",
    "4. Take a point off for each error. \n",
    "\n",
    "```{essay}```\n",
    "\"\"\"\n",
    "response = get_completion(prompt)\n",
    "print(response)"
   ]
  },
  {
   "cell_type": "code",
   "execution_count": 14,
   "metadata": {},
   "outputs": [
    {
     "name": "stdout",
     "output_type": "stream",
     "text": [
      "Overall, the essay is well-written and organized. However, there are a few grammatical errors that need to be addressed. \n",
      "\n",
      "1. \"a important role\" should be \"an important role\" \n",
      "2. \"it is constantly evolving\" should be \"it is constantly evolving.\" (add a period)\n",
      "3. \"Being a developer is a exciting job\" should be \"Being a developer is an exciting job.\" \n",
      "4. \"It is them who bring ideas to life\" should be \"It is they who bring ideas to life.\" \n",
      "5. \"This makes their work always interesting and challenging\" should be \"This makes their work interesting and challenging.\" \n",
      "6. \"Furthermore, the work of a developer is creative\" should be \"Furthermore, a developer's work is creative.\" \n",
      "7. \"Also, developers have flexibility\" should be \"Additionally, developers have flexibility.\" \n",
      "8. \"This means that a developer can work from anywhere and have a good work-life balance\" should be \"This means that developers can work from anywhere and have a good work-life balance.\" \n",
      "9. \"In conclusion, being a developer is a very cool job\" should be \"In conclusion, being a developer is a cool job.\" \n",
      "\n",
      "Final Grade: 9/10 \n",
      "\n",
      "Feedback: Great job overall! Your essay is well-organized and easy to read. However, there are a few grammatical errors that need to be addressed. Make sure to double-check your spelling, punctuation, and word choice. Keep up the good work!\n"
     ]
    }
   ],
   "source": [
    "prompt = f\"\"\"\n",
    "Your task is to help an English teacher grade a essay for an English as a Second language student. \n",
    "\n",
    "Perform the following actions on the edday delimited by triple backticks: \n",
    "1. Check if the text has any grammatical errors, such as:\n",
    "    - Capitalization \n",
    "    - Punctuation \n",
    "    - Spelling \n",
    "    - Word Order \n",
    "    - Verb Tense \n",
    "    - Word Choice \n",
    "    - Sentence Structure \n",
    "    - Sentence Fragment \n",
    "    - Run-on Sentence \n",
    "2. Ensure article usage, verb-noun agreement, and pronoun usage is correct.\n",
    "3. For every error, take a point off.\n",
    "4. Please provide the student their final grade and feedback.\n",
    "\n",
    "```{essay}```\n",
    "\"\"\"\n",
    "response = get_completion(prompt)\n",
    "print(response)"
   ]
  },
  {
   "cell_type": "code",
   "execution_count": 15,
   "metadata": {},
   "outputs": [
    {
     "name": "stdout",
     "output_type": "stream",
     "text": [
      "<table>\n",
      "  <tr>\n",
      "    <th>Error Type</th>\n",
      "    <th>Points Taken Off</th>\n",
      "  </tr>\n",
      "  <tr>\n",
      "    <td>Capitalization</td>\n",
      "    <td>0</td>\n",
      "  </tr>\n",
      "  <tr>\n",
      "    <td>Punctuation</td>\n",
      "    <td>0</td>\n",
      "  </tr>\n",
      "  <tr>\n",
      "    <td>Spelling</td>\n",
      "    <td>0</td>\n",
      "  </tr>\n",
      "  <tr>\n",
      "    <td>Word Order</td>\n",
      "    <td>0</td>\n",
      "  </tr>\n",
      "  <tr>\n",
      "    <td>Verb Tense</td>\n",
      "    <td>0</td>\n",
      "  </tr>\n",
      "  <tr>\n",
      "    <td>Word Choice</td>\n",
      "    <td>0</td>\n",
      "  </tr>\n",
      "  <tr>\n",
      "    <td>Sentence Structure</td>\n",
      "    <td>0</td>\n",
      "  </tr>\n",
      "  <tr>\n",
      "    <td>Sentence Fragment</td>\n",
      "    <td>0</td>\n",
      "  </tr>\n",
      "  <tr>\n",
      "    <td>Run-on Sentence</td>\n",
      "    <td>0</td>\n",
      "  </tr>\n",
      "  <tr>\n",
      "    <td>Article Usage</td>\n",
      "    <td>-1</td>\n",
      "  </tr>\n",
      "  <tr>\n",
      "    <td>Verb-Noun Agreement</td>\n",
      "    <td>0</td>\n",
      "  </tr>\n",
      "  <tr>\n",
      "    <td>Pronoun Usage</td>\n",
      "    <td>0</td>\n",
      "  </tr>\n",
      "  <tr>\n",
      "    <td>Total Points Taken Off</td>\n",
      "    <td>-1</td>\n",
      "  </tr>\n",
      "</table>\n",
      "\n",
      "Final Grade: A\n",
      "\n",
      "Feedback: Great job! Your essay is well-written and easy to understand. Just remember to use articles correctly. Keep up the good work!\n"
     ]
    }
   ],
   "source": [
    "prompt = f\"\"\"\n",
    "Your task is to help an English teacher grade a essay for an English as a Second language student. \n",
    "\n",
    "Perform the following actions on the edday delimited by triple backticks: \n",
    "1. Check if the text has any grammatical errors, such as:\n",
    "    - Capitalization \n",
    "    - Punctuation \n",
    "    - Spelling \n",
    "    - Word Order \n",
    "    - Verb Tense \n",
    "    - Word Choice \n",
    "    - Sentence Structure \n",
    "    - Sentence Fragment \n",
    "    - Run-on Sentence \n",
    "2. Ensure article usage, verb-noun agreement, and pronoun usage is correct.\n",
    "3. For every error, take a point off.\n",
    "4. Please provide the student their final grade \n",
    "5. Using no more than 50 words, provide feedback on how to improve.\n",
    "6. Provide a table with the errors and the number of points taken off.\n",
    "\n",
    "Pleas format your response in HTML so that it can be easily displayed on a website.\n",
    "\n",
    "```{essay}```\n",
    "\"\"\"\n",
    "response = get_completion(prompt)\n",
    "print(response)"
   ]
  },
  {
   "attachments": {},
   "cell_type": "markdown",
   "metadata": {},
   "source": [
    "# Other things OpenAI can do"
   ]
  },
  {
   "cell_type": "code",
   "execution_count": 20,
   "metadata": {},
   "outputs": [
    {
     "name": "stdout",
     "output_type": "stream",
     "text": [
      "The essay is well-written with no grammatical errors. The article usage, verb-noun agreement, and pronoun usage are correct. The student can improve by providing more specific examples and details to support their points. They can also work on organizing their ideas more effectively to create a stronger flow throughout the essay.\n"
     ]
    }
   ],
   "source": [
    "prompt = f\"\"\"\n",
    "Your task is to help an English teacher grade a essay for an English as a Second language student. \n",
    "\n",
    "Perform the following actions on the edday delimited by triple backticks: \n",
    "1. Check if the text has any grammatical errors, such as:\n",
    "    - Capitalization \n",
    "    - Punctuation \n",
    "    - Spelling \n",
    "    - Word Order \n",
    "    - Verb Tense \n",
    "    - Word Choice \n",
    "    - Sentence Structure \n",
    "    - Sentence Fragment \n",
    "    - Run-on Sentence \n",
    "2. Ensure article usage, verb-noun agreement, and pronoun usage is correct.\n",
    "3. For every error, take a point off.\n",
    "4. Please provide a summary of no more than 50 words on how the student can improve.\n",
    "\n",
    "```{essay}```\n",
    "\"\"\"\n",
    "response = get_completion(prompt)\n",
    "print(response)"
   ]
  },
  {
   "cell_type": "code",
   "execution_count": 21,
   "metadata": {},
   "outputs": [
    {
     "name": "stdout",
     "output_type": "stream",
     "text": [
      "The sentiment of the essay is positive and enthusiastic about the job of being a developer in the technology industry.\n"
     ]
    }
   ],
   "source": [
    "prompt = f\"\"\"\n",
    "What is the sentiment of the following essay, \n",
    "which is delimited with triple backticks?\n",
    "\n",
    "'''{essay}'''\n",
    "\"\"\"\n",
    "response = get_completion(prompt)\n",
    "print(response)"
   ]
  },
  {
   "cell_type": "code",
   "execution_count": 22,
   "metadata": {},
   "outputs": [
    {
     "name": "stdout",
     "output_type": "stream",
     "text": [
      "positive\n"
     ]
    }
   ],
   "source": [
    "prompt = f\"\"\"\n",
    "What is the sentiment of the following essay, \n",
    "which is delimited with triple backticks?\n",
    "\n",
    "Give your answer as a single word, either \"positive\" \\\n",
    "or \"negative\".\n",
    "\n",
    "'''{essay}'''\n",
    "\"\"\"\n",
    "response = get_completion(prompt)\n",
    "print(response)"
   ]
  },
  {
   "cell_type": "code",
   "execution_count": 23,
   "metadata": {},
   "outputs": [
    {
     "name": "stdout",
     "output_type": "stream",
     "text": [
      "excitement, admiration, appreciation, satisfaction, optimism\n"
     ]
    }
   ],
   "source": [
    "prompt = f\"\"\"\n",
    "Identify a list of emotions that the writer of the \\\n",
    "following review is expressing. Include no more than \\\n",
    "five items in the list. Format your answer as a list of \\\n",
    "lower-case words separated by commas.\n",
    "\n",
    "'''{essay}'''\n",
    "\"\"\"\n",
    "response = get_completion(prompt)\n",
    "print(response)"
   ]
  },
  {
   "cell_type": "code",
   "execution_count": 24,
   "metadata": {},
   "outputs": [
    {
     "name": "stdout",
     "output_type": "stream",
     "text": [
      "Technology, Jobs, Developers, Creativity, Flexibility.\n"
     ]
    }
   ],
   "source": [
    "prompt = f\"\"\"\n",
    "Determine five topics that are being discussed in the \\\n",
    "following text, which is delimited by triple backticks.\n",
    "\n",
    "Make each item one or two words long. \n",
    "\n",
    "Format your response as a list of items separated by commas.\n",
    "\n",
    "'''{essay}'''\n",
    "\"\"\"\n",
    "response = get_completion(prompt)\n",
    "print(response)"
   ]
  },
  {
   "cell_type": "code",
   "execution_count": 25,
   "metadata": {},
   "outputs": [
    {
     "data": {
      "text/plain": [
       "['Technology', ' Jobs', ' Developers', ' Creativity', ' Flexibility.']"
      ]
     },
     "execution_count": 25,
     "metadata": {},
     "output_type": "execute_result"
    }
   ],
   "source": [
    "response.split(sep=',')"
   ]
  },
  {
   "attachments": {},
   "cell_type": "markdown",
   "metadata": {},
   "source": [
    "# Moderation\n"
   ]
  },
  {
   "cell_type": "code",
   "execution_count": 26,
   "metadata": {},
   "outputs": [],
   "source": [
    "topic_list = [\n",
    "    \"drug abuse\", \"sexual abuse\", \"child abuse\", \"domestic violence\"\n",
    "]\n",
    "\n",
    "ai_list = \", \".join(topic_list)"
   ]
  },
  {
   "cell_type": "code",
   "execution_count": 27,
   "metadata": {},
   "outputs": [
    {
     "name": "stdout",
     "output_type": "stream",
     "text": [
      "{\n",
      "    \"drug abuse\": 0,\n",
      "    \"sexual abuse\": 0,\n",
      "    \"child abuse\": 0,\n",
      "    \"domestic violence\": 0\n",
      "} [198, 644, 3432, 596, 1917, 11, 5557, 11335, 264, 3062, 3560, 304, 1057, 6439, 13, 1102, 22223, 1475, 13189, 11, 323, 433, 374, 15320, 42028, 13, 1666, 264, 1121, 11, 7032, 304, 279, 5557, 5064, 11, 1093, 1694, 264, 16131, 11, 527, 10671, 810, 19411, 323, 7155, 13, 720, 34242, 264, 16131, 374, 264, 13548, 2683, 13, 47717, 527, 279, 49186, 315, 279, 7528, 1917, 13, 2435, 3350, 2082, 311, 1893, 3241, 11, 13335, 11, 10721, 11, 323, 810, 13, 1102, 374, 1124, 889, 4546, 6848, 311, 2324, 323, 1893, 7526, 430, 1304, 1057, 6439, 8831, 323, 810, 17125, 13]\n"
     ]
    }
   ],
   "source": [
    "\n",
    "prompt = f\"\"\"\n",
    "Determine whether text delimited with triple backticks contains \\\n",
    "a sensitive topic from the following list, to flag it for review. \\\n",
    "Any mention of this topic should be flagged for review.\n",
    "\n",
    "List of topics: {ai_list}\n",
    "\n",
    "Give your answer as json with the topic as the key.\n",
    "If a sensitive topic was mentioned, mark as 1, else 0\\\n",
    "\n",
    "'''{essay}'''\n",
    "\"\"\"\n",
    "\n",
    "response = get_completion(prompt, temperature=0.5)\n",
    "print(response, x[0:100])"
   ]
  }
 ],
 "metadata": {
  "kernelspec": {
   "display_name": ".venv",
   "language": "python",
   "name": "python3"
  },
  "language_info": {
   "codemirror_mode": {
    "name": "ipython",
    "version": 3
   },
   "file_extension": ".py",
   "mimetype": "text/x-python",
   "name": "python",
   "nbconvert_exporter": "python",
   "pygments_lexer": "ipython3",
   "version": "3.11.3"
  },
  "orig_nbformat": 4
 },
 "nbformat": 4,
 "nbformat_minor": 2
}
